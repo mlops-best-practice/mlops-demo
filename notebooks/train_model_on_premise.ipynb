{
 "cells": [
  {
   "cell_type": "code",
   "execution_count": 1,
   "id": "ef47de4f-1387-479f-abd1-5e21fcf2bcdc",
   "metadata": {
    "tags": []
   },
   "outputs": [
    {
     "name": "stdout",
     "output_type": "stream",
     "text": [
      "/Users/pvm/Documents/Fsoft/mlops-demo\n"
     ]
    }
   ],
   "source": [
    "cd .."
   ]
  },
  {
   "cell_type": "code",
   "execution_count": 2,
   "id": "b41959cf-bcfa-4a5c-909a-cc3f27bfaaba",
   "metadata": {
    "tags": []
   },
   "outputs": [
    {
     "name": "stdout",
     "output_type": "stream",
     "text": [
      "Requirement already satisfied: python-dotenv in /Users/pvm/opt/anaconda3/envs/abnomalenv/lib/python3.8/site-packages (from -r requirements.txt (line 2)) (0.21.0)\n",
      "Requirement already satisfied: mlflow in /Users/pvm/opt/anaconda3/envs/abnomalenv/lib/python3.8/site-packages (from -r requirements.txt (line 3)) (2.1.0)\n",
      "Requirement already satisfied: numpy in /Users/pvm/opt/anaconda3/envs/abnomalenv/lib/python3.8/site-packages (from -r requirements.txt (line 6)) (1.23.5)\n",
      "Requirement already satisfied: scikit-learn in /Users/pvm/opt/anaconda3/envs/abnomalenv/lib/python3.8/site-packages (from -r requirements.txt (line 7)) (1.2.0)\n",
      "Requirement already satisfied: pandas in /Users/pvm/opt/anaconda3/envs/abnomalenv/lib/python3.8/site-packages (from -r requirements.txt (line 8)) (1.5.2)\n",
      "Requirement already satisfied: catboost in /Users/pvm/opt/anaconda3/envs/abnomalenv/lib/python3.8/site-packages (from -r requirements.txt (line 9)) (1.1.1)\n",
      "Requirement already satisfied: gunicorn<21 in /Users/pvm/opt/anaconda3/envs/abnomalenv/lib/python3.8/site-packages (from mlflow->-r requirements.txt (line 3)) (20.1.0)\n",
      "Requirement already satisfied: pytz<2023 in /Users/pvm/opt/anaconda3/envs/abnomalenv/lib/python3.8/site-packages (from mlflow->-r requirements.txt (line 3)) (2022.6)\n",
      "Requirement already satisfied: sqlparse<1,>=0.4.0 in /Users/pvm/opt/anaconda3/envs/abnomalenv/lib/python3.8/site-packages (from mlflow->-r requirements.txt (line 3)) (0.4.3)\n",
      "Requirement already satisfied: click<9,>=7.0 in /Users/pvm/opt/anaconda3/envs/abnomalenv/lib/python3.8/site-packages (from mlflow->-r requirements.txt (line 3)) (8.1.3)\n",
      "Requirement already satisfied: shap<1,>=0.40 in /Users/pvm/opt/anaconda3/envs/abnomalenv/lib/python3.8/site-packages (from mlflow->-r requirements.txt (line 3)) (0.41.0)\n",
      "Requirement already satisfied: docker<7,>=4.0.0 in /Users/pvm/opt/anaconda3/envs/abnomalenv/lib/python3.8/site-packages (from mlflow->-r requirements.txt (line 3)) (6.0.1)\n",
      "Requirement already satisfied: pyyaml<7,>=5.1 in /Users/pvm/opt/anaconda3/envs/abnomalenv/lib/python3.8/site-packages (from mlflow->-r requirements.txt (line 3)) (6.0)\n",
      "Requirement already satisfied: requests<3,>=2.17.3 in /Users/pvm/opt/anaconda3/envs/abnomalenv/lib/python3.8/site-packages (from mlflow->-r requirements.txt (line 3)) (2.28.1)\n",
      "Requirement already satisfied: Jinja2<4,>=2.11 in /Users/pvm/opt/anaconda3/envs/abnomalenv/lib/python3.8/site-packages (from mlflow->-r requirements.txt (line 3)) (3.1.2)\n",
      "Requirement already satisfied: packaging<23 in /Users/pvm/opt/anaconda3/envs/abnomalenv/lib/python3.8/site-packages (from mlflow->-r requirements.txt (line 3)) (21.3)\n",
      "Requirement already satisfied: databricks-cli<1,>=0.8.7 in /Users/pvm/opt/anaconda3/envs/abnomalenv/lib/python3.8/site-packages (from mlflow->-r requirements.txt (line 3)) (0.17.4)\n",
      "Requirement already satisfied: protobuf<5,>=3.12.0 in /Users/pvm/opt/anaconda3/envs/abnomalenv/lib/python3.8/site-packages (from mlflow->-r requirements.txt (line 3)) (4.21.12)\n",
      "Requirement already satisfied: scipy<2 in /Users/pvm/opt/anaconda3/envs/abnomalenv/lib/python3.8/site-packages (from mlflow->-r requirements.txt (line 3)) (1.9.3)\n",
      "Requirement already satisfied: sqlalchemy<2,>=1.4.0 in /Users/pvm/opt/anaconda3/envs/abnomalenv/lib/python3.8/site-packages (from mlflow->-r requirements.txt (line 3)) (1.4.45)\n",
      "Requirement already satisfied: gitpython<4,>=2.1.0 in /Users/pvm/opt/anaconda3/envs/abnomalenv/lib/python3.8/site-packages (from mlflow->-r requirements.txt (line 3)) (3.1.29)\n",
      "Requirement already satisfied: markdown<4,>=3.3 in /Users/pvm/opt/anaconda3/envs/abnomalenv/lib/python3.8/site-packages (from mlflow->-r requirements.txt (line 3)) (3.4.1)\n",
      "Requirement already satisfied: entrypoints<1 in /Users/pvm/opt/anaconda3/envs/abnomalenv/lib/python3.8/site-packages (from mlflow->-r requirements.txt (line 3)) (0.4)\n",
      "Requirement already satisfied: alembic<2 in /Users/pvm/opt/anaconda3/envs/abnomalenv/lib/python3.8/site-packages (from mlflow->-r requirements.txt (line 3)) (1.9.0)\n",
      "Requirement already satisfied: querystring-parser<2 in /Users/pvm/opt/anaconda3/envs/abnomalenv/lib/python3.8/site-packages (from mlflow->-r requirements.txt (line 3)) (1.2.4)\n",
      "Requirement already satisfied: cloudpickle<3 in /Users/pvm/opt/anaconda3/envs/abnomalenv/lib/python3.8/site-packages (from mlflow->-r requirements.txt (line 3)) (2.2.0)\n",
      "Requirement already satisfied: Flask<3 in /Users/pvm/opt/anaconda3/envs/abnomalenv/lib/python3.8/site-packages (from mlflow->-r requirements.txt (line 3)) (2.2.2)\n",
      "Requirement already satisfied: pyarrow<11,>=4.0.0 in /Users/pvm/opt/anaconda3/envs/abnomalenv/lib/python3.8/site-packages (from mlflow->-r requirements.txt (line 3)) (10.0.1)\n",
      "Requirement already satisfied: importlib-metadata!=4.7.0,<6,>=3.7.0 in /Users/pvm/opt/anaconda3/envs/abnomalenv/lib/python3.8/site-packages (from mlflow->-r requirements.txt (line 3)) (5.2.0)\n",
      "Requirement already satisfied: matplotlib<4 in /Users/pvm/opt/anaconda3/envs/abnomalenv/lib/python3.8/site-packages (from mlflow->-r requirements.txt (line 3)) (3.6.2)\n",
      "Requirement already satisfied: threadpoolctl>=2.0.0 in /Users/pvm/opt/anaconda3/envs/abnomalenv/lib/python3.8/site-packages (from scikit-learn->-r requirements.txt (line 7)) (3.1.0)\n",
      "Requirement already satisfied: joblib>=1.1.1 in /Users/pvm/opt/anaconda3/envs/abnomalenv/lib/python3.8/site-packages (from scikit-learn->-r requirements.txt (line 7)) (1.2.0)\n",
      "Requirement already satisfied: python-dateutil>=2.8.1 in /Users/pvm/opt/anaconda3/envs/abnomalenv/lib/python3.8/site-packages (from pandas->-r requirements.txt (line 8)) (2.8.2)\n",
      "Requirement already satisfied: six in /Users/pvm/opt/anaconda3/envs/abnomalenv/lib/python3.8/site-packages (from catboost->-r requirements.txt (line 9)) (1.16.0)\n",
      "Requirement already satisfied: plotly in /Users/pvm/opt/anaconda3/envs/abnomalenv/lib/python3.8/site-packages (from catboost->-r requirements.txt (line 9)) (5.11.0)\n",
      "Requirement already satisfied: graphviz in /Users/pvm/opt/anaconda3/envs/abnomalenv/lib/python3.8/site-packages (from catboost->-r requirements.txt (line 9)) (0.20.1)\n",
      "Requirement already satisfied: Mako in /Users/pvm/opt/anaconda3/envs/abnomalenv/lib/python3.8/site-packages (from alembic<2->mlflow->-r requirements.txt (line 3)) (1.2.4)\n",
      "Requirement already satisfied: importlib-resources in /Users/pvm/opt/anaconda3/envs/abnomalenv/lib/python3.8/site-packages (from alembic<2->mlflow->-r requirements.txt (line 3)) (5.10.1)\n",
      "Requirement already satisfied: oauthlib>=3.1.0 in /Users/pvm/opt/anaconda3/envs/abnomalenv/lib/python3.8/site-packages (from databricks-cli<1,>=0.8.7->mlflow->-r requirements.txt (line 3)) (3.2.2)\n",
      "Requirement already satisfied: tabulate>=0.7.7 in /Users/pvm/opt/anaconda3/envs/abnomalenv/lib/python3.8/site-packages (from databricks-cli<1,>=0.8.7->mlflow->-r requirements.txt (line 3)) (0.9.0)\n",
      "Requirement already satisfied: pyjwt>=1.7.0 in /Users/pvm/opt/anaconda3/envs/abnomalenv/lib/python3.8/site-packages (from databricks-cli<1,>=0.8.7->mlflow->-r requirements.txt (line 3)) (2.6.0)\n",
      "Requirement already satisfied: websocket-client>=0.32.0 in /Users/pvm/opt/anaconda3/envs/abnomalenv/lib/python3.8/site-packages (from docker<7,>=4.0.0->mlflow->-r requirements.txt (line 3)) (1.4.2)\n",
      "Requirement already satisfied: urllib3>=1.26.0 in /Users/pvm/opt/anaconda3/envs/abnomalenv/lib/python3.8/site-packages (from docker<7,>=4.0.0->mlflow->-r requirements.txt (line 3)) (1.26.13)\n",
      "Requirement already satisfied: itsdangerous>=2.0 in /Users/pvm/opt/anaconda3/envs/abnomalenv/lib/python3.8/site-packages (from Flask<3->mlflow->-r requirements.txt (line 3)) (2.1.2)\n",
      "Requirement already satisfied: Werkzeug>=2.2.2 in /Users/pvm/opt/anaconda3/envs/abnomalenv/lib/python3.8/site-packages (from Flask<3->mlflow->-r requirements.txt (line 3)) (2.2.2)\n",
      "Requirement already satisfied: gitdb<5,>=4.0.1 in /Users/pvm/opt/anaconda3/envs/abnomalenv/lib/python3.8/site-packages (from gitpython<4,>=2.1.0->mlflow->-r requirements.txt (line 3)) (4.0.10)\n",
      "Requirement already satisfied: setuptools>=3.0 in /Users/pvm/opt/anaconda3/envs/abnomalenv/lib/python3.8/site-packages (from gunicorn<21->mlflow->-r requirements.txt (line 3)) (65.5.0)\n",
      "Requirement already satisfied: zipp>=0.5 in /Users/pvm/opt/anaconda3/envs/abnomalenv/lib/python3.8/site-packages (from importlib-metadata!=4.7.0,<6,>=3.7.0->mlflow->-r requirements.txt (line 3)) (3.11.0)\n",
      "Requirement already satisfied: MarkupSafe>=2.0 in /Users/pvm/opt/anaconda3/envs/abnomalenv/lib/python3.8/site-packages (from Jinja2<4,>=2.11->mlflow->-r requirements.txt (line 3)) (2.1.1)\n",
      "Requirement already satisfied: pyparsing>=2.2.1 in /Users/pvm/opt/anaconda3/envs/abnomalenv/lib/python3.8/site-packages (from matplotlib<4->mlflow->-r requirements.txt (line 3)) (3.0.9)\n",
      "Requirement already satisfied: contourpy>=1.0.1 in /Users/pvm/opt/anaconda3/envs/abnomalenv/lib/python3.8/site-packages (from matplotlib<4->mlflow->-r requirements.txt (line 3)) (1.0.6)\n",
      "Requirement already satisfied: kiwisolver>=1.0.1 in /Users/pvm/opt/anaconda3/envs/abnomalenv/lib/python3.8/site-packages (from matplotlib<4->mlflow->-r requirements.txt (line 3)) (1.4.4)\n",
      "Requirement already satisfied: cycler>=0.10 in /Users/pvm/opt/anaconda3/envs/abnomalenv/lib/python3.8/site-packages (from matplotlib<4->mlflow->-r requirements.txt (line 3)) (0.11.0)\n",
      "Requirement already satisfied: fonttools>=4.22.0 in /Users/pvm/opt/anaconda3/envs/abnomalenv/lib/python3.8/site-packages (from matplotlib<4->mlflow->-r requirements.txt (line 3)) (4.38.0)\n",
      "Requirement already satisfied: pillow>=6.2.0 in /Users/pvm/opt/anaconda3/envs/abnomalenv/lib/python3.8/site-packages (from matplotlib<4->mlflow->-r requirements.txt (line 3)) (9.3.0)\n",
      "Requirement already satisfied: charset-normalizer<3,>=2 in /Users/pvm/opt/anaconda3/envs/abnomalenv/lib/python3.8/site-packages (from requests<3,>=2.17.3->mlflow->-r requirements.txt (line 3)) (2.1.1)\n",
      "Requirement already satisfied: idna<4,>=2.5 in /Users/pvm/opt/anaconda3/envs/abnomalenv/lib/python3.8/site-packages (from requests<3,>=2.17.3->mlflow->-r requirements.txt (line 3)) (3.4)\n",
      "Requirement already satisfied: certifi>=2017.4.17 in /Users/pvm/opt/anaconda3/envs/abnomalenv/lib/python3.8/site-packages (from requests<3,>=2.17.3->mlflow->-r requirements.txt (line 3)) (2022.12.7)\n",
      "Requirement already satisfied: numba in /Users/pvm/opt/anaconda3/envs/abnomalenv/lib/python3.8/site-packages (from shap<1,>=0.40->mlflow->-r requirements.txt (line 3)) (0.56.4)\n",
      "Requirement already satisfied: slicer==0.0.7 in /Users/pvm/opt/anaconda3/envs/abnomalenv/lib/python3.8/site-packages (from shap<1,>=0.40->mlflow->-r requirements.txt (line 3)) (0.0.7)\n",
      "Requirement already satisfied: tqdm>4.25.0 in /Users/pvm/opt/anaconda3/envs/abnomalenv/lib/python3.8/site-packages (from shap<1,>=0.40->mlflow->-r requirements.txt (line 3)) (4.64.1)\n",
      "Requirement already satisfied: tenacity>=6.2.0 in /Users/pvm/opt/anaconda3/envs/abnomalenv/lib/python3.8/site-packages (from plotly->catboost->-r requirements.txt (line 9)) (8.1.0)\n",
      "Requirement already satisfied: smmap<6,>=3.0.1 in /Users/pvm/opt/anaconda3/envs/abnomalenv/lib/python3.8/site-packages (from gitdb<5,>=4.0.1->gitpython<4,>=2.1.0->mlflow->-r requirements.txt (line 3)) (5.0.0)\n",
      "Requirement already satisfied: llvmlite<0.40,>=0.39.0dev0 in /Users/pvm/opt/anaconda3/envs/abnomalenv/lib/python3.8/site-packages (from numba->shap<1,>=0.40->mlflow->-r requirements.txt (line 3)) (0.39.1)\n",
      "Note: you may need to restart the kernel to use updated packages.\n"
     ]
    }
   ],
   "source": [
    "\n",
    "pip install -r requirements.txt"
   ]
  },
  {
   "cell_type": "code",
   "execution_count": 3,
   "id": "fa875e56-c94e-45a1-914b-010ca3452fd0",
   "metadata": {
    "tags": []
   },
   "outputs": [
    {
     "data": {
      "text/plain": [
       "True"
      ]
     },
     "execution_count": 3,
     "metadata": {},
     "output_type": "execute_result"
    }
   ],
   "source": [
    "from dotenv import load_dotenv\n",
    "load_dotenv(\"conf/dev.env\")"
   ]
  },
  {
   "cell_type": "code",
   "execution_count": 4,
   "id": "28b29d6a",
   "metadata": {},
   "outputs": [],
   "source": [
    "import pandas as pd\n",
    "from tqdm import tqdm\n",
    "import warnings\n",
    "warnings.filterwarnings(\"ignore\")\n",
    "\n",
    "from sklearn.model_selection import train_test_split\n",
    "\n",
    "from src.modeling.custom.model import CatboostCustomClassifier\n",
    "from src.modeling.custom.score import MLScorer\n",
    "from src.pipelines.on_premise_pipeline import Trainer\n",
    "\n",
    "from src.data_processing.load_data import DataLoader\n",
    "from src.data_processing.process_data import ChurnDataTransformer\n",
    "from src.utils.ml_utils import generate_params"
   ]
  },
  {
   "cell_type": "markdown",
   "id": "ce02bfe6-4468-42c0-9ba6-f3f50e8a12a1",
   "metadata": {},
   "source": [
    "# Prepare data"
   ]
  },
  {
   "attachments": {},
   "cell_type": "markdown",
   "id": "012893b4-4f47-417a-ac94-3c1a691c5cb6",
   "metadata": {},
   "source": [
    "- Bước này ta tiến hành load data (có thể là raw data, sau đó tiến hành transform)"
   ]
  },
  {
   "cell_type": "code",
   "execution_count": 5,
   "id": "b77f61c0-6d32-4df0-a144-f4ec7bebbe9b",
   "metadata": {
    "tags": []
   },
   "outputs": [],
   "source": [
    "location_raw_data_path = \"datasets/raw_datas/WA_Fn-UseC_-Telco-Customer-Churn.csv\"\n",
    "dataloader = DataLoader(location_raw_data_path)\n",
    "df_data = dataloader.load_data()"
   ]
  },
  {
   "cell_type": "code",
   "execution_count": 6,
   "id": "8955423d",
   "metadata": {},
   "outputs": [],
   "source": [
    "data_transformer = ChurnDataTransformer(df_data)"
   ]
  },
  {
   "cell_type": "code",
   "execution_count": 7,
   "id": "7efe05a8",
   "metadata": {},
   "outputs": [],
   "source": [
    "df_tranformed = data_transformer.transform(df_data)"
   ]
  },
  {
   "cell_type": "code",
   "execution_count": 8,
   "id": "b6ecdfaf-8c73-4da9-90ef-8fad51f3c4c7",
   "metadata": {
    "tags": []
   },
   "outputs": [],
   "source": [
    "# Prepre dataset\n",
    "y = df_tranformed[[\"Churn\"]]\n",
    "X = df_tranformed.drop(columns = [\"Churn\"])\n",
    "\n",
    "# Split dataset\n",
    "X_train, X_val, y_train, y_val = train_test_split(X, y, random_state = 123)\n"
   ]
  },
  {
   "cell_type": "markdown",
   "id": "2fa1d118-d2fd-45be-8ba6-debd337edc9b",
   "metadata": {
    "tags": []
   },
   "source": [
    "# Setup model Model"
   ]
  },
  {
   "cell_type": "code",
   "execution_count": 9,
   "id": "5108fce0",
   "metadata": {},
   "outputs": [],
   "source": [
    "custom_scorer = MLScorer()\n",
    "trainer = Trainer()"
   ]
  },
  {
   "cell_type": "markdown",
   "id": "c78a71e9-b78e-415b-b76c-d820fbb8d948",
   "metadata": {},
   "source": [
    "# Experiments"
   ]
  },
  {
   "cell_type": "code",
   "execution_count": 10,
   "id": "c511ded3-7803-4ee3-b6d9-a5d0311f42a0",
   "metadata": {
    "tags": []
   },
   "outputs": [
    {
     "name": "stderr",
     "output_type": "stream",
     "text": [
      "2it [00:07,  3.98s/it]\n"
     ]
    },
    {
     "ename": "KeyboardInterrupt",
     "evalue": "",
     "output_type": "error",
     "traceback": [
      "\u001b[0;31m---------------------------------------------------------------------------\u001b[0m",
      "\u001b[0;31mKeyboardInterrupt\u001b[0m                         Traceback (most recent call last)",
      "\u001b[1;32m/Users/pvm/Documents/Fsoft/mlops-demo/notebooks/train_model_on_premise.ipynb Cell 14\u001b[0m in \u001b[0;36m5\n\u001b[1;32m      <a href='vscode-notebook-cell:/Users/pvm/Documents/Fsoft/mlops-demo/notebooks/train_model_on_premise.ipynb#X20sZmlsZQ%3D%3D?line=2'>3</a>\u001b[0m \u001b[39mfor\u001b[39;00m params \u001b[39min\u001b[39;00m tqdm(generate_params(grid_values)):\n\u001b[1;32m      <a href='vscode-notebook-cell:/Users/pvm/Documents/Fsoft/mlops-demo/notebooks/train_model_on_premise.ipynb#X20sZmlsZQ%3D%3D?line=3'>4</a>\u001b[0m     model_catboost \u001b[39m=\u001b[39m CatboostCustomClassifier(model_params \u001b[39m=\u001b[39m params)\n\u001b[0;32m----> <a href='vscode-notebook-cell:/Users/pvm/Documents/Fsoft/mlops-demo/notebooks/train_model_on_premise.ipynb#X20sZmlsZQ%3D%3D?line=4'>5</a>\u001b[0m     model_trained \u001b[39m=\u001b[39m trainer\u001b[39m.\u001b[39;49mtrain(\n\u001b[1;32m      <a href='vscode-notebook-cell:/Users/pvm/Documents/Fsoft/mlops-demo/notebooks/train_model_on_premise.ipynb#X20sZmlsZQ%3D%3D?line=5'>6</a>\u001b[0m                     model \u001b[39m=\u001b[39;49m model_catboost, \n\u001b[1;32m      <a href='vscode-notebook-cell:/Users/pvm/Documents/Fsoft/mlops-demo/notebooks/train_model_on_premise.ipynb#X20sZmlsZQ%3D%3D?line=6'>7</a>\u001b[0m                     scorer \u001b[39m=\u001b[39;49m custom_scorer, \n\u001b[1;32m      <a href='vscode-notebook-cell:/Users/pvm/Documents/Fsoft/mlops-demo/notebooks/train_model_on_premise.ipynb#X20sZmlsZQ%3D%3D?line=7'>8</a>\u001b[0m                     x_train \u001b[39m=\u001b[39;49m X_train, \n\u001b[1;32m      <a href='vscode-notebook-cell:/Users/pvm/Documents/Fsoft/mlops-demo/notebooks/train_model_on_premise.ipynb#X20sZmlsZQ%3D%3D?line=8'>9</a>\u001b[0m                     y_train \u001b[39m=\u001b[39;49my_train, \n\u001b[1;32m     <a href='vscode-notebook-cell:/Users/pvm/Documents/Fsoft/mlops-demo/notebooks/train_model_on_premise.ipynb#X20sZmlsZQ%3D%3D?line=9'>10</a>\u001b[0m                     x_val\u001b[39m=\u001b[39;49mX_val, \n\u001b[1;32m     <a href='vscode-notebook-cell:/Users/pvm/Documents/Fsoft/mlops-demo/notebooks/train_model_on_premise.ipynb#X20sZmlsZQ%3D%3D?line=10'>11</a>\u001b[0m                     y_val\u001b[39m=\u001b[39;49my_val, \n\u001b[1;32m     <a href='vscode-notebook-cell:/Users/pvm/Documents/Fsoft/mlops-demo/notebooks/train_model_on_premise.ipynb#X20sZmlsZQ%3D%3D?line=11'>12</a>\u001b[0m                     params\u001b[39m=\u001b[39;49mparams, \n\u001b[1;32m     <a href='vscode-notebook-cell:/Users/pvm/Documents/Fsoft/mlops-demo/notebooks/train_model_on_premise.ipynb#X20sZmlsZQ%3D%3D?line=12'>13</a>\u001b[0m                     experiment_name\u001b[39m=\u001b[39;49m\u001b[39m\"\u001b[39;49m\u001b[39mcatboost-model\u001b[39;49m\u001b[39m\"\u001b[39;49m\n\u001b[1;32m     <a href='vscode-notebook-cell:/Users/pvm/Documents/Fsoft/mlops-demo/notebooks/train_model_on_premise.ipynb#X20sZmlsZQ%3D%3D?line=13'>14</a>\u001b[0m                 )\n",
      "File \u001b[0;32m~/Documents/Fsoft/mlops-demo/src/pipelines/on_premise_pipeline.py:75\u001b[0m, in \u001b[0;36mTrainer.train\u001b[0;34m(self, model, scorer, x_train, y_train, x_val, y_val, params, experiment_name)\u001b[0m\n\u001b[1;32m     72\u001b[0m mlflow\u001b[39m.\u001b[39mlog_params(params)\n\u001b[1;32m     74\u001b[0m \u001b[39m# Train locally\u001b[39;00m\n\u001b[0;32m---> 75\u001b[0m model\u001b[39m.\u001b[39;49mfit(\n\u001b[1;32m     76\u001b[0m     x_train, \n\u001b[1;32m     77\u001b[0m     y_train\n\u001b[1;32m     78\u001b[0m )\n\u001b[1;32m     80\u001b[0m \u001b[39m# Log metric train metrics\u001b[39;00m\n\u001b[1;32m     81\u001b[0m train_score_results \u001b[39m=\u001b[39m scorer\u001b[39m.\u001b[39mscore(model\u001b[39m.\u001b[39mpredict(x_train), y_train)\n",
      "File \u001b[0;32m~/Documents/Fsoft/mlops-demo/src/modeling/custom/model.py:50\u001b[0m, in \u001b[0;36mCatboostCustomClassifier.fit\u001b[0;34m(self, X, y)\u001b[0m\n\u001b[1;32m     46\u001b[0m \u001b[39m'''\u001b[39;00m\n\u001b[1;32m     47\u001b[0m \u001b[39mfit data into model\u001b[39;00m\n\u001b[1;32m     48\u001b[0m \u001b[39m'''\u001b[39;00m\n\u001b[1;32m     49\u001b[0m \u001b[39m# split data to bucketing\u001b[39;00m\n\u001b[0;32m---> 50\u001b[0m \u001b[39mself\u001b[39;49m\u001b[39m.\u001b[39;49mmodel\u001b[39m.\u001b[39;49mfit(X, y)\n\u001b[1;32m     51\u001b[0m \u001b[39mreturn\u001b[39;00m \u001b[39mself\u001b[39m\u001b[39m.\u001b[39mmodel\n",
      "File \u001b[0;32m~/opt/anaconda3/envs/abnomalenv/lib/python3.8/site-packages/catboost/core.py:5128\u001b[0m, in \u001b[0;36mCatBoostClassifier.fit\u001b[0;34m(self, X, y, cat_features, text_features, embedding_features, sample_weight, baseline, use_best_model, eval_set, verbose, logging_level, plot, plot_file, column_description, verbose_eval, metric_period, silent, early_stopping_rounds, save_snapshot, snapshot_file, snapshot_interval, init_model, callbacks, log_cout, log_cerr)\u001b[0m\n\u001b[1;32m   5125\u001b[0m \u001b[39mif\u001b[39;00m \u001b[39m'\u001b[39m\u001b[39mloss_function\u001b[39m\u001b[39m'\u001b[39m \u001b[39min\u001b[39;00m params:\n\u001b[1;32m   5126\u001b[0m     CatBoostClassifier\u001b[39m.\u001b[39m_check_is_compatible_loss(params[\u001b[39m'\u001b[39m\u001b[39mloss_function\u001b[39m\u001b[39m'\u001b[39m])\n\u001b[0;32m-> 5128\u001b[0m \u001b[39mself\u001b[39;49m\u001b[39m.\u001b[39;49m_fit(X, y, cat_features, text_features, embedding_features, \u001b[39mNone\u001b[39;49;00m, sample_weight, \u001b[39mNone\u001b[39;49;00m, \u001b[39mNone\u001b[39;49;00m, \u001b[39mNone\u001b[39;49;00m, \u001b[39mNone\u001b[39;49;00m, baseline, use_best_model,\n\u001b[1;32m   5129\u001b[0m           eval_set, verbose, logging_level, plot, plot_file, column_description, verbose_eval, metric_period,\n\u001b[1;32m   5130\u001b[0m           silent, early_stopping_rounds, save_snapshot, snapshot_file, snapshot_interval, init_model, callbacks, log_cout, log_cerr)\n\u001b[1;32m   5131\u001b[0m \u001b[39mreturn\u001b[39;00m \u001b[39mself\u001b[39m\n",
      "File \u001b[0;32m~/opt/anaconda3/envs/abnomalenv/lib/python3.8/site-packages/catboost/core.py:2355\u001b[0m, in \u001b[0;36mCatBoost._fit\u001b[0;34m(self, X, y, cat_features, text_features, embedding_features, pairs, sample_weight, group_id, group_weight, subgroup_id, pairs_weight, baseline, use_best_model, eval_set, verbose, logging_level, plot, plot_file, column_description, verbose_eval, metric_period, silent, early_stopping_rounds, save_snapshot, snapshot_file, snapshot_interval, init_model, callbacks, log_cout, log_cerr)\u001b[0m\n\u001b[1;32m   2351\u001b[0m allow_clear_pool \u001b[39m=\u001b[39m train_params[\u001b[39m\"\u001b[39m\u001b[39mallow_clear_pool\u001b[39m\u001b[39m\"\u001b[39m]\n\u001b[1;32m   2353\u001b[0m \u001b[39mwith\u001b[39;00m log_fixup(log_cout, log_cerr), \\\n\u001b[1;32m   2354\u001b[0m     plot_wrapper(plot, plot_file, \u001b[39m'\u001b[39m\u001b[39mTraining plots\u001b[39m\u001b[39m'\u001b[39m, [_get_train_dir(\u001b[39mself\u001b[39m\u001b[39m.\u001b[39mget_params())]):\n\u001b[0;32m-> 2355\u001b[0m     \u001b[39mself\u001b[39;49m\u001b[39m.\u001b[39;49m_train(\n\u001b[1;32m   2356\u001b[0m         train_pool,\n\u001b[1;32m   2357\u001b[0m         train_params[\u001b[39m\"\u001b[39;49m\u001b[39meval_sets\u001b[39;49m\u001b[39m\"\u001b[39;49m],\n\u001b[1;32m   2358\u001b[0m         params,\n\u001b[1;32m   2359\u001b[0m         allow_clear_pool,\n\u001b[1;32m   2360\u001b[0m         train_params[\u001b[39m\"\u001b[39;49m\u001b[39minit_model\u001b[39;49m\u001b[39m\"\u001b[39;49m]\n\u001b[1;32m   2361\u001b[0m     )\n\u001b[1;32m   2363\u001b[0m \u001b[39m# Have property feature_importance possibly set\u001b[39;00m\n\u001b[1;32m   2364\u001b[0m loss \u001b[39m=\u001b[39m \u001b[39mself\u001b[39m\u001b[39m.\u001b[39m_object\u001b[39m.\u001b[39m_get_loss_function_name()\n",
      "File \u001b[0;32m~/opt/anaconda3/envs/abnomalenv/lib/python3.8/site-packages/catboost/core.py:1759\u001b[0m, in \u001b[0;36m_CatBoostBase._train\u001b[0;34m(self, train_pool, test_pool, params, allow_clear_pool, init_model)\u001b[0m\n\u001b[1;32m   1758\u001b[0m \u001b[39mdef\u001b[39;00m \u001b[39m_train\u001b[39m(\u001b[39mself\u001b[39m, train_pool, test_pool, params, allow_clear_pool, init_model):\n\u001b[0;32m-> 1759\u001b[0m     \u001b[39mself\u001b[39;49m\u001b[39m.\u001b[39;49m_object\u001b[39m.\u001b[39;49m_train(train_pool, test_pool, params, allow_clear_pool, init_model\u001b[39m.\u001b[39;49m_object \u001b[39mif\u001b[39;49;00m init_model \u001b[39melse\u001b[39;49;00m \u001b[39mNone\u001b[39;49;00m)\n\u001b[1;32m   1760\u001b[0m     \u001b[39mself\u001b[39m\u001b[39m.\u001b[39m_set_trained_model_attributes()\n",
      "File \u001b[0;32m_catboost.pyx:4623\u001b[0m, in \u001b[0;36m_catboost._CatBoost._train\u001b[0;34m()\u001b[0m\n",
      "File \u001b[0;32m_catboost.pyx:4672\u001b[0m, in \u001b[0;36m_catboost._CatBoost._train\u001b[0;34m()\u001b[0m\n",
      "\u001b[0;31mKeyboardInterrupt\u001b[0m: "
     ]
    }
   ],
   "source": [
    "grid_values = {'iterations': [200, 300], 'learning_rate':[0.001,.009], 'depth': [5, 10]}\n",
    "\n",
    "for params in tqdm(generate_params(grid_values)):\n",
    "    model_catboost = CatboostCustomClassifier(model_params = params)\n",
    "    model_trained = trainer.train(\n",
    "                    model = model_catboost, \n",
    "                    scorer = custom_scorer, \n",
    "                    x_train = X_train, \n",
    "                    y_train =y_train, \n",
    "                    x_val=X_val, \n",
    "                    y_val=y_val, \n",
    "                    params=params, \n",
    "                    experiment_name=\"catboost-model\"\n",
    "                )"
   ]
  },
  {
   "cell_type": "markdown",
   "id": "e2cd6269-744a-439e-a9a8-22b19a5a8a4a",
   "metadata": {},
   "source": [
    "# Evaluate Model (scoring model)"
   ]
  }
 ],
 "metadata": {
  "availableInstances": [
   {
    "_defaultOrder": 0,
    "_isFastLaunch": true,
    "category": "General purpose",
    "gpuNum": 0,
    "hideHardwareSpecs": false,
    "memoryGiB": 4,
    "name": "ml.t3.medium",
    "vcpuNum": 2
   },
   {
    "_defaultOrder": 1,
    "_isFastLaunch": false,
    "category": "General purpose",
    "gpuNum": 0,
    "hideHardwareSpecs": false,
    "memoryGiB": 8,
    "name": "ml.t3.large",
    "vcpuNum": 2
   },
   {
    "_defaultOrder": 2,
    "_isFastLaunch": false,
    "category": "General purpose",
    "gpuNum": 0,
    "hideHardwareSpecs": false,
    "memoryGiB": 16,
    "name": "ml.t3.xlarge",
    "vcpuNum": 4
   },
   {
    "_defaultOrder": 3,
    "_isFastLaunch": false,
    "category": "General purpose",
    "gpuNum": 0,
    "hideHardwareSpecs": false,
    "memoryGiB": 32,
    "name": "ml.t3.2xlarge",
    "vcpuNum": 8
   },
   {
    "_defaultOrder": 4,
    "_isFastLaunch": true,
    "category": "General purpose",
    "gpuNum": 0,
    "hideHardwareSpecs": false,
    "memoryGiB": 8,
    "name": "ml.m5.large",
    "vcpuNum": 2
   },
   {
    "_defaultOrder": 5,
    "_isFastLaunch": false,
    "category": "General purpose",
    "gpuNum": 0,
    "hideHardwareSpecs": false,
    "memoryGiB": 16,
    "name": "ml.m5.xlarge",
    "vcpuNum": 4
   },
   {
    "_defaultOrder": 6,
    "_isFastLaunch": false,
    "category": "General purpose",
    "gpuNum": 0,
    "hideHardwareSpecs": false,
    "memoryGiB": 32,
    "name": "ml.m5.2xlarge",
    "vcpuNum": 8
   },
   {
    "_defaultOrder": 7,
    "_isFastLaunch": false,
    "category": "General purpose",
    "gpuNum": 0,
    "hideHardwareSpecs": false,
    "memoryGiB": 64,
    "name": "ml.m5.4xlarge",
    "vcpuNum": 16
   },
   {
    "_defaultOrder": 8,
    "_isFastLaunch": false,
    "category": "General purpose",
    "gpuNum": 0,
    "hideHardwareSpecs": false,
    "memoryGiB": 128,
    "name": "ml.m5.8xlarge",
    "vcpuNum": 32
   },
   {
    "_defaultOrder": 9,
    "_isFastLaunch": false,
    "category": "General purpose",
    "gpuNum": 0,
    "hideHardwareSpecs": false,
    "memoryGiB": 192,
    "name": "ml.m5.12xlarge",
    "vcpuNum": 48
   },
   {
    "_defaultOrder": 10,
    "_isFastLaunch": false,
    "category": "General purpose",
    "gpuNum": 0,
    "hideHardwareSpecs": false,
    "memoryGiB": 256,
    "name": "ml.m5.16xlarge",
    "vcpuNum": 64
   },
   {
    "_defaultOrder": 11,
    "_isFastLaunch": false,
    "category": "General purpose",
    "gpuNum": 0,
    "hideHardwareSpecs": false,
    "memoryGiB": 384,
    "name": "ml.m5.24xlarge",
    "vcpuNum": 96
   },
   {
    "_defaultOrder": 12,
    "_isFastLaunch": false,
    "category": "General purpose",
    "gpuNum": 0,
    "hideHardwareSpecs": false,
    "memoryGiB": 8,
    "name": "ml.m5d.large",
    "vcpuNum": 2
   },
   {
    "_defaultOrder": 13,
    "_isFastLaunch": false,
    "category": "General purpose",
    "gpuNum": 0,
    "hideHardwareSpecs": false,
    "memoryGiB": 16,
    "name": "ml.m5d.xlarge",
    "vcpuNum": 4
   },
   {
    "_defaultOrder": 14,
    "_isFastLaunch": false,
    "category": "General purpose",
    "gpuNum": 0,
    "hideHardwareSpecs": false,
    "memoryGiB": 32,
    "name": "ml.m5d.2xlarge",
    "vcpuNum": 8
   },
   {
    "_defaultOrder": 15,
    "_isFastLaunch": false,
    "category": "General purpose",
    "gpuNum": 0,
    "hideHardwareSpecs": false,
    "memoryGiB": 64,
    "name": "ml.m5d.4xlarge",
    "vcpuNum": 16
   },
   {
    "_defaultOrder": 16,
    "_isFastLaunch": false,
    "category": "General purpose",
    "gpuNum": 0,
    "hideHardwareSpecs": false,
    "memoryGiB": 128,
    "name": "ml.m5d.8xlarge",
    "vcpuNum": 32
   },
   {
    "_defaultOrder": 17,
    "_isFastLaunch": false,
    "category": "General purpose",
    "gpuNum": 0,
    "hideHardwareSpecs": false,
    "memoryGiB": 192,
    "name": "ml.m5d.12xlarge",
    "vcpuNum": 48
   },
   {
    "_defaultOrder": 18,
    "_isFastLaunch": false,
    "category": "General purpose",
    "gpuNum": 0,
    "hideHardwareSpecs": false,
    "memoryGiB": 256,
    "name": "ml.m5d.16xlarge",
    "vcpuNum": 64
   },
   {
    "_defaultOrder": 19,
    "_isFastLaunch": false,
    "category": "General purpose",
    "gpuNum": 0,
    "hideHardwareSpecs": false,
    "memoryGiB": 384,
    "name": "ml.m5d.24xlarge",
    "vcpuNum": 96
   },
   {
    "_defaultOrder": 20,
    "_isFastLaunch": false,
    "category": "General purpose",
    "gpuNum": 0,
    "hideHardwareSpecs": true,
    "memoryGiB": 0,
    "name": "ml.geospatial.interactive",
    "supportedImageNames": [
     "sagemaker-geospatial-v1-0"
    ],
    "vcpuNum": 0
   },
   {
    "_defaultOrder": 21,
    "_isFastLaunch": true,
    "category": "Compute optimized",
    "gpuNum": 0,
    "hideHardwareSpecs": false,
    "memoryGiB": 4,
    "name": "ml.c5.large",
    "vcpuNum": 2
   },
   {
    "_defaultOrder": 22,
    "_isFastLaunch": false,
    "category": "Compute optimized",
    "gpuNum": 0,
    "hideHardwareSpecs": false,
    "memoryGiB": 8,
    "name": "ml.c5.xlarge",
    "vcpuNum": 4
   },
   {
    "_defaultOrder": 23,
    "_isFastLaunch": false,
    "category": "Compute optimized",
    "gpuNum": 0,
    "hideHardwareSpecs": false,
    "memoryGiB": 16,
    "name": "ml.c5.2xlarge",
    "vcpuNum": 8
   },
   {
    "_defaultOrder": 24,
    "_isFastLaunch": false,
    "category": "Compute optimized",
    "gpuNum": 0,
    "hideHardwareSpecs": false,
    "memoryGiB": 32,
    "name": "ml.c5.4xlarge",
    "vcpuNum": 16
   },
   {
    "_defaultOrder": 25,
    "_isFastLaunch": false,
    "category": "Compute optimized",
    "gpuNum": 0,
    "hideHardwareSpecs": false,
    "memoryGiB": 72,
    "name": "ml.c5.9xlarge",
    "vcpuNum": 36
   },
   {
    "_defaultOrder": 26,
    "_isFastLaunch": false,
    "category": "Compute optimized",
    "gpuNum": 0,
    "hideHardwareSpecs": false,
    "memoryGiB": 96,
    "name": "ml.c5.12xlarge",
    "vcpuNum": 48
   },
   {
    "_defaultOrder": 27,
    "_isFastLaunch": false,
    "category": "Compute optimized",
    "gpuNum": 0,
    "hideHardwareSpecs": false,
    "memoryGiB": 144,
    "name": "ml.c5.18xlarge",
    "vcpuNum": 72
   },
   {
    "_defaultOrder": 28,
    "_isFastLaunch": false,
    "category": "Compute optimized",
    "gpuNum": 0,
    "hideHardwareSpecs": false,
    "memoryGiB": 192,
    "name": "ml.c5.24xlarge",
    "vcpuNum": 96
   },
   {
    "_defaultOrder": 29,
    "_isFastLaunch": true,
    "category": "Accelerated computing",
    "gpuNum": 1,
    "hideHardwareSpecs": false,
    "memoryGiB": 16,
    "name": "ml.g4dn.xlarge",
    "vcpuNum": 4
   },
   {
    "_defaultOrder": 30,
    "_isFastLaunch": false,
    "category": "Accelerated computing",
    "gpuNum": 1,
    "hideHardwareSpecs": false,
    "memoryGiB": 32,
    "name": "ml.g4dn.2xlarge",
    "vcpuNum": 8
   },
   {
    "_defaultOrder": 31,
    "_isFastLaunch": false,
    "category": "Accelerated computing",
    "gpuNum": 1,
    "hideHardwareSpecs": false,
    "memoryGiB": 64,
    "name": "ml.g4dn.4xlarge",
    "vcpuNum": 16
   },
   {
    "_defaultOrder": 32,
    "_isFastLaunch": false,
    "category": "Accelerated computing",
    "gpuNum": 1,
    "hideHardwareSpecs": false,
    "memoryGiB": 128,
    "name": "ml.g4dn.8xlarge",
    "vcpuNum": 32
   },
   {
    "_defaultOrder": 33,
    "_isFastLaunch": false,
    "category": "Accelerated computing",
    "gpuNum": 4,
    "hideHardwareSpecs": false,
    "memoryGiB": 192,
    "name": "ml.g4dn.12xlarge",
    "vcpuNum": 48
   },
   {
    "_defaultOrder": 34,
    "_isFastLaunch": false,
    "category": "Accelerated computing",
    "gpuNum": 1,
    "hideHardwareSpecs": false,
    "memoryGiB": 256,
    "name": "ml.g4dn.16xlarge",
    "vcpuNum": 64
   },
   {
    "_defaultOrder": 35,
    "_isFastLaunch": false,
    "category": "Accelerated computing",
    "gpuNum": 1,
    "hideHardwareSpecs": false,
    "memoryGiB": 61,
    "name": "ml.p3.2xlarge",
    "vcpuNum": 8
   },
   {
    "_defaultOrder": 36,
    "_isFastLaunch": false,
    "category": "Accelerated computing",
    "gpuNum": 4,
    "hideHardwareSpecs": false,
    "memoryGiB": 244,
    "name": "ml.p3.8xlarge",
    "vcpuNum": 32
   },
   {
    "_defaultOrder": 37,
    "_isFastLaunch": false,
    "category": "Accelerated computing",
    "gpuNum": 8,
    "hideHardwareSpecs": false,
    "memoryGiB": 488,
    "name": "ml.p3.16xlarge",
    "vcpuNum": 64
   },
   {
    "_defaultOrder": 38,
    "_isFastLaunch": false,
    "category": "Accelerated computing",
    "gpuNum": 8,
    "hideHardwareSpecs": false,
    "memoryGiB": 768,
    "name": "ml.p3dn.24xlarge",
    "vcpuNum": 96
   },
   {
    "_defaultOrder": 39,
    "_isFastLaunch": false,
    "category": "Memory Optimized",
    "gpuNum": 0,
    "hideHardwareSpecs": false,
    "memoryGiB": 16,
    "name": "ml.r5.large",
    "vcpuNum": 2
   },
   {
    "_defaultOrder": 40,
    "_isFastLaunch": false,
    "category": "Memory Optimized",
    "gpuNum": 0,
    "hideHardwareSpecs": false,
    "memoryGiB": 32,
    "name": "ml.r5.xlarge",
    "vcpuNum": 4
   },
   {
    "_defaultOrder": 41,
    "_isFastLaunch": false,
    "category": "Memory Optimized",
    "gpuNum": 0,
    "hideHardwareSpecs": false,
    "memoryGiB": 64,
    "name": "ml.r5.2xlarge",
    "vcpuNum": 8
   },
   {
    "_defaultOrder": 42,
    "_isFastLaunch": false,
    "category": "Memory Optimized",
    "gpuNum": 0,
    "hideHardwareSpecs": false,
    "memoryGiB": 128,
    "name": "ml.r5.4xlarge",
    "vcpuNum": 16
   },
   {
    "_defaultOrder": 43,
    "_isFastLaunch": false,
    "category": "Memory Optimized",
    "gpuNum": 0,
    "hideHardwareSpecs": false,
    "memoryGiB": 256,
    "name": "ml.r5.8xlarge",
    "vcpuNum": 32
   },
   {
    "_defaultOrder": 44,
    "_isFastLaunch": false,
    "category": "Memory Optimized",
    "gpuNum": 0,
    "hideHardwareSpecs": false,
    "memoryGiB": 384,
    "name": "ml.r5.12xlarge",
    "vcpuNum": 48
   },
   {
    "_defaultOrder": 45,
    "_isFastLaunch": false,
    "category": "Memory Optimized",
    "gpuNum": 0,
    "hideHardwareSpecs": false,
    "memoryGiB": 512,
    "name": "ml.r5.16xlarge",
    "vcpuNum": 64
   },
   {
    "_defaultOrder": 46,
    "_isFastLaunch": false,
    "category": "Memory Optimized",
    "gpuNum": 0,
    "hideHardwareSpecs": false,
    "memoryGiB": 768,
    "name": "ml.r5.24xlarge",
    "vcpuNum": 96
   },
   {
    "_defaultOrder": 47,
    "_isFastLaunch": false,
    "category": "Accelerated computing",
    "gpuNum": 1,
    "hideHardwareSpecs": false,
    "memoryGiB": 16,
    "name": "ml.g5.xlarge",
    "vcpuNum": 4
   },
   {
    "_defaultOrder": 48,
    "_isFastLaunch": false,
    "category": "Accelerated computing",
    "gpuNum": 1,
    "hideHardwareSpecs": false,
    "memoryGiB": 32,
    "name": "ml.g5.2xlarge",
    "vcpuNum": 8
   },
   {
    "_defaultOrder": 49,
    "_isFastLaunch": false,
    "category": "Accelerated computing",
    "gpuNum": 1,
    "hideHardwareSpecs": false,
    "memoryGiB": 64,
    "name": "ml.g5.4xlarge",
    "vcpuNum": 16
   },
   {
    "_defaultOrder": 50,
    "_isFastLaunch": false,
    "category": "Accelerated computing",
    "gpuNum": 1,
    "hideHardwareSpecs": false,
    "memoryGiB": 128,
    "name": "ml.g5.8xlarge",
    "vcpuNum": 32
   },
   {
    "_defaultOrder": 51,
    "_isFastLaunch": false,
    "category": "Accelerated computing",
    "gpuNum": 1,
    "hideHardwareSpecs": false,
    "memoryGiB": 256,
    "name": "ml.g5.16xlarge",
    "vcpuNum": 64
   },
   {
    "_defaultOrder": 52,
    "_isFastLaunch": false,
    "category": "Accelerated computing",
    "gpuNum": 4,
    "hideHardwareSpecs": false,
    "memoryGiB": 192,
    "name": "ml.g5.12xlarge",
    "vcpuNum": 48
   },
   {
    "_defaultOrder": 53,
    "_isFastLaunch": false,
    "category": "Accelerated computing",
    "gpuNum": 4,
    "hideHardwareSpecs": false,
    "memoryGiB": 384,
    "name": "ml.g5.24xlarge",
    "vcpuNum": 96
   },
   {
    "_defaultOrder": 54,
    "_isFastLaunch": false,
    "category": "Accelerated computing",
    "gpuNum": 8,
    "hideHardwareSpecs": false,
    "memoryGiB": 768,
    "name": "ml.g5.48xlarge",
    "vcpuNum": 192
   }
  ],
  "instance_type": "ml.t3.medium",
  "kernelspec": {
   "display_name": "tabai_env",
   "language": "python",
   "name": "python3"
  },
  "language_info": {
   "codemirror_mode": {
    "name": "ipython",
    "version": 3
   },
   "file_extension": ".py",
   "mimetype": "text/x-python",
   "name": "python",
   "nbconvert_exporter": "python",
   "pygments_lexer": "ipython3",
   "version": "3.8.15"
  }
 },
 "nbformat": 4,
 "nbformat_minor": 5
}
